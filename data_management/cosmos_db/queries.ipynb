{
 "cells": [
  {
   "cell_type": "code",
   "execution_count": 1,
   "metadata": {},
   "outputs": [],
   "source": [
    "from IPython.core.interactiveshell import InteractiveShell\n",
    "InteractiveShell.ast_node_interactivity = 'all'  # default is ‘last_expr'\n",
    "\n",
    "%load_ext autoreload\n",
    "%autoreload 2"
   ]
  },
  {
   "cell_type": "code",
   "execution_count": 2,
   "metadata": {},
   "outputs": [],
   "source": [
    "import json\n",
    "import os\n",
    "from collections import Counter\n",
    "\n",
    "from tqdm import tqdm\n",
    "import azure.cosmos.cosmos_client as cosmos_client"
   ]
  },
  {
   "cell_type": "markdown",
   "metadata": {},
   "source": [
    "# Queries\n",
    "\n",
    "Example queries against the document DB instance."
   ]
  },
  {
   "cell_type": "markdown",
   "metadata": {},
   "source": [
    "## Connect to the Cosmos DB instance\n",
    "\n",
    "`COSMOS_ENDPOINT` and `COSMOS_KEY` need to be environment variables. "
   ]
  },
  {
   "cell_type": "code",
   "execution_count": 6,
   "metadata": {},
   "outputs": [],
   "source": [
    "# Cosmos DB config\n",
    "config = {\n",
    "    'ENDPOINT': os.environ.get('COSMOS_ENDPOINT'),\n",
    "    'PRIMARYKEY': os.environ.get('COSMOS_KEY')\n",
    "}\n",
    "\n",
    "# Initialize the Cosmos client\n",
    "client = cosmos_client.CosmosClient(url_connection=config['ENDPOINT'], auth={\n",
    "                                    'masterKey': config['PRIMARYKEY']})\n",
    "\n",
    "container_link = 'dbs/camera-trap/colls/images'  # database link + container link"
   ]
  },
  {
   "cell_type": "markdown",
   "metadata": {},
   "source": [
    "## Examples\n",
    "\n",
    "In the examples, we limit the selection to a few entries using the `TOP` keyword. When using the DB to create datasets, delete the TOP keyword and arg."
   ]
  },
  {
   "cell_type": "code",
   "execution_count": 16,
   "metadata": {},
   "outputs": [],
   "source": [
    "dataset = 'idfg'"
   ]
  },
  {
   "cell_type": "markdown",
   "metadata": {},
   "source": [
    "### All images with bounding box annotation"
   ]
  },
  {
   "cell_type": "code",
   "execution_count": 26,
   "metadata": {},
   "outputs": [
    {
     "name": "stdout",
     "output_type": "stream",
     "text": [
      "Length of results: 1020\n",
      "CPU times: user 115 ms, sys: 9.8 ms, total: 125 ms\n",
      "Wall time: 1.44 s\n"
     ]
    }
   ],
   "source": [
    "%%time\n",
    "\n",
    "query = {'query': '''\n",
    "SELECT TOP 1020 im\n",
    "FROM images im\n",
    "WHERE ARRAY_LENGTH(im.annotations.bbox) > 0\n",
    "'''}\n",
    "\n",
    "options = {\n",
    "    'enableCrossPartitionQuery': True\n",
    "}\n",
    "\n",
    "result_iterable = client.QueryItems(container_link, query, options)\n",
    "# if you want to restrict to one dataset, pass in partition_key=dataset\n",
    "\n",
    "results = []\n",
    "for item in iter(result_iterable):\n",
    "    res = item['im']\n",
    "    results.append(res)\n",
    "\n",
    "print('Length of results:', len(results))"
   ]
  },
  {
   "cell_type": "code",
   "execution_count": 27,
   "metadata": {},
   "outputs": [
    {
     "data": {
      "text/plain": [
       "{'_attachments': 'attachments/',\n",
       " '_etag': '\"a00028c7-0000-0500-0000-5d4bd7c30000\"',\n",
       " '_rid': 'WjB+ALn4oN55NQAAAAAACA==',\n",
       " '_self': 'dbs/WjB+AA==/colls/WjB+ALn4oN4=/docs/WjB+ALn4oN55NQAAAAAACA==/',\n",
       " '_ts': 1565251523,\n",
       " 'annotations': {'bbox': [{'bbox_abs': [558.5203531343667,\n",
       "     476.6385112396647,\n",
       "     66.36738764096717,\n",
       "     27.581252006635005],\n",
       "    'bbox_rel': [0.272, 0.31, 0.0324, 0.0179],\n",
       "    'category': 'animal'}],\n",
       "  'species': ['deer']},\n",
       " 'dataset': 'idfg',\n",
       " 'datetime': '19-Jan-2016 10:45:00',\n",
       " 'file_name': 'Beaverhead_elk/AM179/Trip 1/100RECNX/IMG_2061.JPG',\n",
       " 'height': 1536,\n",
       " 'id': 'e7056c19-65ad-4bce-9958-865c3071b882',\n",
       " 'image_id': 'Beaverhead_elk~AM179~Trip 1~100RECNX~IMG_2061',\n",
       " 'location': 'Beaverhead_elk+AM179',\n",
       " 'width': 2048}"
      ]
     },
     "execution_count": 27,
     "metadata": {},
     "output_type": "execute_result"
    }
   ],
   "source": [
    "results[1000]"
   ]
  },
  {
   "cell_type": "markdown",
   "metadata": {},
   "source": [
    "### All images with the specified species"
   ]
  },
  {
   "cell_type": "code",
   "execution_count": 23,
   "metadata": {},
   "outputs": [
    {
     "name": "stdout",
     "output_type": "stream",
     "text": [
      "Length of results: 1020\n",
      "CPU times: user 113 ms, sys: 10.2 ms, total: 124 ms\n",
      "Wall time: 1.92 s\n"
     ]
    }
   ],
   "source": [
    "%%time\n",
    "\n",
    "species_requested = 'elk'\n",
    "\n",
    "query = {'query': '''\n",
    "SELECT TOP 1020 im\n",
    "FROM images im\n",
    "WHERE ARRAY_LENGTH(im.annotations.species) > 0 AND ARRAY_CONTAINS(im.annotations.species, \"{}\")\n",
    "'''.format(species_requested)}\n",
    "\n",
    "options = {\n",
    "    'enableCrossPartitionQuery': True\n",
    "}\n",
    "\n",
    "result_iterable = client.QueryItems(container_link, query, options)\n",
    "\n",
    "results = []\n",
    "for item in iter(result_iterable):\n",
    "    res = item['im']\n",
    "    results.append(res)\n",
    "    \n",
    "print('Length of results:', len(results))"
   ]
  },
  {
   "cell_type": "code",
   "execution_count": 25,
   "metadata": {},
   "outputs": [
    {
     "data": {
      "text/plain": [
       "{'_attachments': 'attachments/',\n",
       " '_etag': '\"a0004da7-0000-0500-0000-5d4bd7a60000\"',\n",
       " '_rid': 'WjB+ALn4oN42GgAAAAAACA==',\n",
       " '_self': 'dbs/WjB+AA==/colls/WjB+ALn4oN4=/docs/WjB+ALn4oN42GgAAAAAACA==/',\n",
       " '_ts': 1565251494,\n",
       " 'annotations': {'bbox': [{'bbox_abs': [0,\n",
       "     984.3018501754368,\n",
       "     591.4981615184691,\n",
       "     522.7193055279513],\n",
       "    'bbox_rel': [0, 0.64, 0.288, 0.34],\n",
       "    'category': 'animal'},\n",
       "   {'bbox_abs': [1558.9874024517837,\n",
       "     965.9608219112909,\n",
       "     163.54083535523634,\n",
       "     276.6438429840845],\n",
       "    'bbox_rel': [0.761, 0.628, 0.0798, 0.18],\n",
       "    'category': 'animal'}],\n",
       "  'species': ['elk']},\n",
       " 'dataset': 'idfg',\n",
       " 'datetime': '03-Feb-2016 00:28:50',\n",
       " 'file_name': 'Beaverhead_elk/AM56/Trip 1/100RECNX/2016-02-03 00-28-50 M 5_5.JPG',\n",
       " 'height': 1536,\n",
       " 'id': 'b6c088b5-8f3e-4019-984d-ff7a9b340535',\n",
       " 'image_id': 'Beaverhead_elk~AM56~Trip 1~100RECNX~2016-02-03 00-28-50 M 5_5',\n",
       " 'location': 'Beaverhead_elk+AM56',\n",
       " 'width': 2048}"
      ]
     },
     "execution_count": 25,
     "metadata": {},
     "output_type": "execute_result"
    }
   ],
   "source": [
    "results[1000]"
   ]
  },
  {
   "cell_type": "markdown",
   "metadata": {},
   "source": [
    "### Species count"
   ]
  },
  {
   "cell_type": "code",
   "execution_count": 29,
   "metadata": {},
   "outputs": [
    {
     "name": "stdout",
     "output_type": "stream",
     "text": [
      "CPU times: user 92.1 ms, sys: 7.24 ms, total: 99.3 ms\n",
      "Wall time: 1.64 s\n"
     ]
    }
   ],
   "source": [
    "%%time\n",
    "\n",
    "query = {'query': '''\n",
    "SELECT TOP 1020 im.annotations.species\n",
    "FROM images im\n",
    "WHERE ARRAY_LENGTH(im.annotations.species) > 0\n",
    "'''}\n",
    "\n",
    "options = {\n",
    "    'enableCrossPartitionQuery': True\n",
    "}\n",
    "\n",
    "result_iterable = client.QueryItems(container_link, query, options)\n",
    "\n",
    "species = Counter()\n",
    "for item in iter(result_iterable):\n",
    "    res = item['species']\n",
    "    species.update(res)"
   ]
  },
  {
   "cell_type": "code",
   "execution_count": 30,
   "metadata": {},
   "outputs": [
    {
     "data": {
      "text/plain": [
       "Counter({'Cattle': 3,\n",
       "         'Moose': 1,\n",
       "         'deer': 188,\n",
       "         'elk': 156,\n",
       "         'empty': 669,\n",
       "         'human': 4})"
      ]
     },
     "execution_count": 30,
     "metadata": {},
     "output_type": "execute_result"
    }
   ],
   "source": [
    "species"
   ]
  },
  {
   "cell_type": "code",
   "execution_count": null,
   "metadata": {},
   "outputs": [],
   "source": []
  }
 ],
 "metadata": {
  "kernelspec": {
   "display_name": "Python [conda env:tensorflow]",
   "language": "python",
   "name": "conda-env-tensorflow-py"
  },
  "language_info": {
   "codemirror_mode": {
    "name": "ipython",
    "version": 3
   },
   "file_extension": ".py",
   "mimetype": "text/x-python",
   "name": "python",
   "nbconvert_exporter": "python",
   "pygments_lexer": "ipython3",
   "version": "3.5.4"
  }
 },
 "nbformat": 4,
 "nbformat_minor": 2
}
